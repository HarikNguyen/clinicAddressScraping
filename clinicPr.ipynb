{
 "cells": [
  {
   "cell_type": "markdown",
   "metadata": {},
   "source": [
    "import lib"
   ]
  },
  {
   "cell_type": "code",
   "execution_count": 131,
   "metadata": {},
   "outputs": [],
   "source": [
    "import time\n",
    "import requests\n",
    "from bs4 import BeautifulSoup as bs\n",
    "import re\n",
    "from datetime import date\n",
    "import pandas as pd\n",
    "import json\n",
    "from pathlib import Path "
   ]
  },
  {
   "cell_type": "markdown",
   "metadata": {},
   "source": [
    "data mold"
   ]
  },
  {
   "cell_type": "code",
   "execution_count": 132,
   "metadata": {},
   "outputs": [],
   "source": [
    "result = {'names': [], 'email': [], 'address': [], 'phone': [], 'clinic name': []}"
   ]
  },
  {
   "cell_type": "markdown",
   "metadata": {},
   "source": [
    "get data"
   ]
  },
  {
   "cell_type": "code",
   "execution_count": 133,
   "metadata": {},
   "outputs": [],
   "source": [
    "def getLinks(html_doc):\n",
    "    linkRecords = []\n",
    "    soup =  bs(html_doc, 'html.parser')\n",
    "    resultsFind = soup.find_all(\"tbody\", {\"class\": \"fap-desktop-view\"})\n",
    "    for resultFind in resultsFind:\n",
    "        for a in resultFind.find_all('a', href=True):\n",
    "            linkRecords.append('https://www.psych.on.ca/Public/' + a['href'])\n",
    "    return linkRecords\n",
    "    "
   ]
  },
  {
   "cell_type": "code",
   "execution_count": 134,
   "metadata": {},
   "outputs": [],
   "source": [
    "def decodeCFEmail(fp):\n",
    "    try:\n",
    "        r = int(fp[:2],16)\n",
    "        email = ''.join([chr(int(fp[i:i+2], 16) ^ r) for i in range(2, len(fp), 2)])\n",
    "        return email\n",
    "    except (ValueError):\n",
    "        pass"
   ]
  },
  {
   "cell_type": "code",
   "execution_count": 135,
   "metadata": {},
   "outputs": [],
   "source": [
    "def getData(html_doc):\n",
    "    data = {'names': None, 'email': None, 'address': None, 'phone': None, 'clinic name': None}\n",
    "    soup =  bs(html_doc, 'html.parser')\n",
    "    try:\n",
    "        data['names'] = soup.find('p', {'class': 'fap-details-title'}).getText()\n",
    "        infos = soup.find_all('p', {'class': 'info'})\n",
    "        cfemail = infos[0].find('span', {'class': '__cf_email__'})\n",
    "        data['email'] = decodeCFEmail(cfemail['data-cfemail'])\n",
    "        data['address'] = infos[2].getText().replace('Address: ', '') #address\n",
    "        data['phone'] = infos[3].getText().replace('Phone: ', '')\n",
    "        return data\n",
    "    except:\n",
    "        pass\n"
   ]
  },
  {
   "cell_type": "code",
   "execution_count": 136,
   "metadata": {},
   "outputs": [
    {
     "name": "stdout",
     "output_type": "stream",
     "text": [
      "https://www.psych.on.ca/Public/Find-a-Psychologist-Details?psyID=2630\n",
      "https://www.psych.on.ca/Public/Find-a-Psychologist-Details?psyID=2635\n",
      "https://www.psych.on.ca/Public/Find-a-Psychologist-Details?psyID=2636\n",
      "https://www.psych.on.ca/Public/Find-a-Psychologist-Details?psyID=2637\n",
      "https://www.psych.on.ca/Public/Find-a-Psychologist-Details?psyID=2640\n",
      "https://www.psych.on.ca/Public/Find-a-Psychologist-Details?psyID=2641\n",
      "https://www.psych.on.ca/Public/Find-a-Psychologist-Details?psyID=2650\n",
      "https://www.psych.on.ca/Public/Find-a-Psychologist-Details?psyID=2651\n",
      "https://www.psych.on.ca/Public/Find-a-Psychologist-Details?psyID=2651\n",
      "https://www.psych.on.ca/Public/Find-a-Psychologist-Details?psyID=2653\n",
      "https://www.psych.on.ca/Public/Find-a-Psychologist-Details?psyID=2659\n",
      "https://www.psych.on.ca/Public/Find-a-Psychologist-Details?psyID=2663\n",
      "https://www.psych.on.ca/Public/Find-a-Psychologist-Details?psyID=2669\n",
      "https://www.psych.on.ca/Public/Find-a-Psychologist-Details?psyID=2671\n",
      "https://www.psych.on.ca/Public/Find-a-Psychologist-Details?psyID=2673\n",
      "https://www.psych.on.ca/Public/Find-a-Psychologist-Details?psyID=2674\n",
      "https://www.psych.on.ca/Public/Find-a-Psychologist-Details?psyID=2677\n",
      "https://www.psych.on.ca/Public/Find-a-Psychologist-Details?psyID=2678\n",
      "https://www.psych.on.ca/Public/Find-a-Psychologist-Details?psyID=2685\n",
      "https://www.psych.on.ca/Public/Find-a-Psychologist-Details?psyID=2688\n"
     ]
    }
   ],
   "source": [
    "indexPageEnd = 80\n",
    "\n",
    "payload={}\n",
    "headers = {\n",
    "  'user-agent': 'Mozilla/5.0 (Windows NT 10.0; Win64; x64) AppleWebKit/537.36 (KHTML, like Gecko) Chrome/97.0.4692.99 Safari/537.36',\n",
    "  'Cookie': 'ARRAffinity=8f34f6436376f83ac80fcd318a5e17380aa993a73269f934accc27d66e80d9a9; ARRAffinitySameSite=8f34f6436376f83ac80fcd318a5e17380aa993a73269f934accc27d66e80d9a9; ASP.NET_SessionId=zrcwy4w1c533jv0pqq4lyoda'\n",
    "}\n",
    "\n",
    "for page in range(1,indexPageEnd):\n",
    "  url = \"https://www.psych.on.ca/Public/Find-a-Psychologist?page=\" + str(page)\n",
    "  response = requests.request(\"GET\", url, headers=headers, data=payload)\n",
    "  clinicLinks = getLinks(response.text)\n",
    "  for link in clinicLinks:\n",
    "    payload={}\n",
    "    headers = {\n",
    "      'user-agent': 'Mozilla/5.0 (Windows NT 10.0; Win64; x64) AppleWebKit/537.36 (KHTML, like Gecko) Chrome/97.0.4692.99 Safari/537.36',\n",
    "      'Cookie': 'ARRAffinity=8f34f6436376f83ac80fcd318a5e17380aa993a73269f934accc27d66e80d9a9; ARRAffinitySameSite=8f34f6436376f83ac80fcd318a5e17380aa993a73269f934accc27d66e80d9a9; ASP.NET_SessionId=zrcwy4w1c533jv0pqq4lyoda'\n",
    "    }\n",
    "    subResponse = requests.request(\"GET\", link, headers=headers, data=payload)\n",
    "    print(link)\n",
    "    data = getData(subResponse.text)\n",
    "    if data:\n",
    "      result['names'].append(data['names'])\n",
    "      result['email'].append(data['email'])\n",
    "      result['address'].append(data['address'])\n",
    "      result['phone'].append(data['phone'])\n",
    "      result['clinic name'].append(data['clinic name'])\n",
    "\n"
   ]
  },
  {
   "cell_type": "markdown",
   "metadata": {},
   "source": [
    "extract to csv file"
   ]
  },
  {
   "cell_type": "code",
   "execution_count": 137,
   "metadata": {},
   "outputs": [],
   "source": [
    "df = pd.DataFrame(result)  \n",
    "with pd.ExcelWriter(\"./outClinic.xlsx\") as writer:\n",
    "    df.to_excel(writer, sheet_name=\"Sheet1\") "
   ]
  }
 ],
 "metadata": {
  "interpreter": {
   "hash": "ac59ebe37160ed0dfa835113d9b8498d9f09ceb179beaac4002f036b9467c963"
  },
  "kernelspec": {
   "display_name": "Python 3.9.7 64-bit",
   "language": "python",
   "name": "python3"
  },
  "language_info": {
   "codemirror_mode": {
    "name": "ipython",
    "version": 3
   },
   "file_extension": ".py",
   "mimetype": "text/x-python",
   "name": "python",
   "nbconvert_exporter": "python",
   "pygments_lexer": "ipython3",
   "version": "3.9.7"
  },
  "orig_nbformat": 4
 },
 "nbformat": 4,
 "nbformat_minor": 2
}
